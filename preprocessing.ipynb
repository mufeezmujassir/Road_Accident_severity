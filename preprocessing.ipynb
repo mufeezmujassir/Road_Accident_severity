{
 "cells": [
  {
   "cell_type": "markdown",
   "id": "82d48ee8",
   "metadata": {},
   "source": [
    "# Import the libraries\n"
   ]
  },
  {
   "cell_type": "code",
   "execution_count": 1,
   "id": "0128c198",
   "metadata": {},
   "outputs": [],
   "source": [
    "import pandas as pd\n",
    "import numpy as np\n",
    "from sklearn.preprocessing import LabelEncoder\n",
    "from sklearn.preprocessing import StandardScaler\n"
   ]
  },
  {
   "cell_type": "code",
   "execution_count": 2,
   "id": "1c50dbb3",
   "metadata": {},
   "outputs": [],
   "source": [
    "df=pd.read_csv(\"RTA Dataset.csv\")\n"
   ]
  },
  {
   "cell_type": "code",
   "execution_count": 3,
   "id": "f6f1fff0",
   "metadata": {},
   "outputs": [
    {
     "name": "stdout",
     "output_type": "stream",
     "text": [
      "Index(['Time', 'Day_of_week', 'Age_band_of_driver', 'Sex_of_driver',\n",
      "       'Educational_level', 'Vehicle_driver_relation', 'Driving_experience',\n",
      "       'Type_of_vehicle', 'Owner_of_vehicle', 'Service_year_of_vehicle',\n",
      "       'Defect_of_vehicle', 'Area_accident_occured', 'Lanes_or_Medians',\n",
      "       'Road_allignment', 'Types_of_Junction', 'Road_surface_type',\n",
      "       'Road_surface_conditions', 'Light_conditions', 'Weather_conditions',\n",
      "       'Type_of_collision', 'Number_of_vehicles_involved',\n",
      "       'Number_of_casualties', 'Vehicle_movement', 'Casualty_class',\n",
      "       'Sex_of_casualty', 'Age_band_of_casualty', 'Casualty_severity',\n",
      "       'Work_of_casuality', 'Fitness_of_casuality', 'Pedestrian_movement',\n",
      "       'Cause_of_accident', 'Accident_severity'],\n",
      "      dtype='object')\n",
      "32\n"
     ]
    }
   ],
   "source": [
    "## print the header\n",
    "print(df.columns)\n",
    "print(len(df.columns))"
   ]
  },
  {
   "cell_type": "markdown",
   "id": "75850d54",
   "metadata": {},
   "source": [
    "# Remove the unrelated features\n",
    "- removing columns\n",
    "    - Number_of_casualties :- This is only known after the accident.\n",
    "    - Duplicate of target variable Accident_severity.\n",
    "    - Fitness_of_casuality :- Measured after the accident (whether casualty was fit/unfit at hospital).\n",
    "    - Work_of_casuality :- Doesn’t logically affect accident severity → weak correlation.\n",
    "    - Sex_of_casualty :- Gender of the injured person doesn’t influence accident severity as strongly as environmental or driver-related factors.\n",
    "    - Owner_of_vehicle :- Already captured indirectly by Vehicle_driver_relation (e.g., owner vs hired driver)."
   ]
  },
  {
   "cell_type": "code",
   "execution_count": 4,
   "id": "d5bd9107",
   "metadata": {},
   "outputs": [],
   "source": [
    "# preprocessing steps \n",
    "# 1. Handle missing values\n",
    "# 2. Remove the unrelated features\n",
    "# 2. Encode categorical variables\n",
    "# 3. Normalize/Standardize numerical features\n",
    "# 4. Feature engineering (if necessary)\n",
    "# 5. Split the data into training and testing sets\n",
    "\n",
    "\n",
    "df.drop(columns=['Time','Day_of_week','Owner_of_vehicle','Service_year_of_vehicle',\n",
    "                 'Road_allignment','Road_surface_conditions','Number_of_casualties',\n",
    "                 'Casualty_class','Sex_of_casualty','Age_band_of_casualty','Casualty_severity',\n",
    "                 'Work_of_casuality','Fitness_of_casuality','Defect_of_vehicle'], inplace=True)"
   ]
  },
  {
   "cell_type": "code",
   "execution_count": 5,
   "id": "f59f7482",
   "metadata": {},
   "outputs": [
    {
     "name": "stdout",
     "output_type": "stream",
     "text": [
      "Age_band_of_driver               0\n",
      "Sex_of_driver                    0\n",
      "Educational_level              741\n",
      "Vehicle_driver_relation        579\n",
      "Driving_experience             829\n",
      "Type_of_vehicle                950\n",
      "Area_accident_occured          239\n",
      "Lanes_or_Medians               385\n",
      "Types_of_Junction              887\n",
      "Road_surface_type              172\n",
      "Light_conditions                 0\n",
      "Weather_conditions               0\n",
      "Type_of_collision              155\n",
      "Number_of_vehicles_involved      0\n",
      "Vehicle_movement               308\n",
      "Pedestrian_movement              0\n",
      "Cause_of_accident                0\n",
      "Accident_severity                0\n",
      "dtype: int64\n",
      "(12316, 18)\n"
     ]
    }
   ],
   "source": [
    "print(df.isnull().sum())\n",
    "print(df.shape)"
   ]
  },
  {
   "cell_type": "code",
   "execution_count": 6,
   "id": "0880f673",
   "metadata": {},
   "outputs": [
    {
     "name": "stdout",
     "output_type": "stream",
     "text": [
      "['18-30' '31-50' 'Under 18' 'Over 51' 'Unknown']\n",
      "['Above high school' 'Junior high school' nan 'Elementary school'\n",
      " 'High school' 'Unknown' 'Illiterate' 'Writing & reading']\n",
      "['Employee' 'Owner' 'Other']\n",
      "['1-2yr' 'Above 10yr' '5-10yr' '2-5yr' 'No Licence' 'Below 1yr' nan\n",
      " 'unknown']\n",
      "['Automobile' 'Public (> 45 seats)' 'Lorry (41?100Q)' nan\n",
      " 'Public (13?45 seats)' 'Lorry (11?40Q)' 'Long lorry' 'Public (12 seats)'\n",
      " 'Taxi' 'Pick up upto 10Q' 'Stationwagen' 'Ridden horse' 'Other' 'Bajaj'\n",
      " 'Turbo' 'Motorcycle' 'Special vehicle' 'Bicycle']\n",
      "['Car' 'Bus' 'Lorry' 'Other' 'Three_wheeler' 'Mootorbike' 'Bicycle']\n",
      "['Residential areas' 'Office areas' '  Recreational areas'\n",
      " ' Industrial areas' 'Other' ' Church areas' '  Market areas'\n",
      " 'Rural village areas' ' Outside rural areas' ' Hospital areas' nan\n",
      " 'School areas' 'Rural village areasOffice areas' 'Recreational areas'\n",
      " 'Unknown']\n",
      "[nan 'Undivided Two way' 'other' 'Double carriageway (median)' 'One way'\n",
      " 'Two-way (divided with solid lines road marking)'\n",
      " 'Two-way (divided with broken lines road marking)' 'Unknown']\n",
      "['No junction' 'Y Shape' 'Crossing' 'O Shape' 'Other' 'Unknown' 'T Shape'\n",
      " 'X Shape' nan]\n",
      "['Asphalt roads' 'Earth roads' nan 'Gravel roads' 'Other'\n",
      " 'Asphalt roads with some distress']\n",
      "['Normal' 'Raining' 'Raining and Windy' 'Cloudy' 'Other' 'Windy' 'Snow'\n",
      " 'Unknown' 'Fog or mist']\n",
      "['Collision with roadside-parked vehicles'\n",
      " 'Vehicle with vehicle collision' 'Collision with roadside objects'\n",
      " 'Collision with animals' 'Other' 'Rollover' 'Fall from vehicles'\n",
      " 'Collision with pedestrians' 'Unknown' nan 'With Train']\n",
      "['Daylight' 'Darkness - lights lit' 'Darkness - no lighting'\n",
      " 'Darkness - lights unlit']\n",
      "['Going straight' 'U-Turn' 'Turnover' 'Waiting to go' 'Moving Backward'\n",
      " 'Getting off' 'Reversing' 'Unknown' 'Parked' 'Stopping' 'Other'\n",
      " 'Overtaking' nan 'Entering a junction']\n",
      "['Not a Pedestrian' \"Crossing from driver's nearside\"\n",
      " 'Crossing from nearside - masked by parked or statioNot a Pedestrianry vehicle'\n",
      " 'Unknown or other'\n",
      " 'Crossing from offside - masked by  parked or statioNot a Pedestrianry vehicle'\n",
      " 'In carriageway, statioNot a Pedestrianry - not crossing  (standing or playing)'\n",
      " 'Walking along in carriageway, back to traffic'\n",
      " 'Walking along in carriageway, facing traffic'\n",
      " 'In carriageway, statioNot a Pedestrianry - not crossing  (standing or playing) - masked by parked or statioNot a Pedestrianry vehicle']\n",
      "Pedestrian_movement\n",
      "Not a Pedestrian                                                                                                                         7769\n",
      "Crossing from nearside - masked by parked or statioNot a Pedestrianry vehicle                                                             228\n",
      "Unknown or other                                                                                                                          199\n",
      "Crossing from driver's nearside                                                                                                            89\n",
      "Crossing from offside - masked by  parked or statioNot a Pedestrianry vehicle                                                              46\n",
      "In carriageway, statioNot a Pedestrianry - not crossing  (standing or playing)                                                             32\n",
      "Walking along in carriageway, back to traffic                                                                                               9\n",
      "In carriageway, statioNot a Pedestrianry - not crossing  (standing or playing) - masked by parked or statioNot a Pedestrianry vehicle       9\n",
      "Walking along in carriageway, facing traffic                                                                                                4\n",
      "Name: count, dtype: int64\n",
      "['Moving Backward' 'Overtaking' 'Changing lane to the left'\n",
      " 'Changing lane to the right' 'No priority to vehicle'\n",
      " 'No priority to pedestrian' 'No distancing'\n",
      " 'Getting off the vehicle improperly' 'Overloading' 'Other' 'Overspeed'\n",
      " 'Driving carelessly' 'Driving at high speed' 'Driving to the left'\n",
      " 'Unknown' 'Overturning' 'Turnover' 'Driving under the influence of drugs'\n",
      " 'Drunk driving' 'Improper parking']\n"
     ]
    },
    {
     "name": "stderr",
     "output_type": "stream",
     "text": [
      "C:\\Users\\MUFEEZ\\AppData\\Local\\Temp\\ipykernel_31404\\2155652314.py:7: FutureWarning: A value is trying to be set on a copy of a DataFrame or Series through chained assignment using an inplace method.\n",
      "The behavior will change in pandas 3.0. This inplace method will never work because the intermediate object on which we are setting values always behaves as a copy.\n",
      "\n",
      "For example, when doing 'df[col].method(value, inplace=True)', try using 'df.method({col: value}, inplace=True)' or df[col] = df[col].method(value) instead, to perform the operation inplace on the original object.\n",
      "\n",
      "\n",
      "  df['Educational_level'].fillna('Unknown', inplace=True)\n",
      "C:\\Users\\MUFEEZ\\AppData\\Local\\Temp\\ipykernel_31404\\2155652314.py:19: FutureWarning: A value is trying to be set on a copy of a DataFrame or Series through chained assignment using an inplace method.\n",
      "The behavior will change in pandas 3.0. This inplace method will never work because the intermediate object on which we are setting values always behaves as a copy.\n",
      "\n",
      "For example, when doing 'df[col].method(value, inplace=True)', try using 'df.method({col: value}, inplace=True)' or df[col] = df[col].method(value) instead, to perform the operation inplace on the original object.\n",
      "\n",
      "\n",
      "  df['Driving_experience'].fillna('Unknown', inplace=True)\n",
      "C:\\Users\\MUFEEZ\\AppData\\Local\\Temp\\ipykernel_31404\\2155652314.py:59: FutureWarning: A value is trying to be set on a copy of a DataFrame or Series through chained assignment using an inplace method.\n",
      "The behavior will change in pandas 3.0. This inplace method will never work because the intermediate object on which we are setting values always behaves as a copy.\n",
      "\n",
      "For example, when doing 'df[col].method(value, inplace=True)', try using 'df.method({col: value}, inplace=True)' or df[col] = df[col].method(value) instead, to perform the operation inplace on the original object.\n",
      "\n",
      "\n",
      "  df['Lanes_or_Medians'].fillna('Unknown', inplace=True)\n"
     ]
    }
   ],
   "source": [
    "#handle the Age band od driver missing values\n",
    "print(df['Age_band_of_driver'].unique())\n",
    "df.drop(df[df['Age_band_of_driver']=='Unknown'].index, inplace=True)\n",
    "\n",
    "# handle the education level missing values by replacing with age group\n",
    "print(df['Educational_level'].unique())\n",
    "df['Educational_level'].fillna('Unknown', inplace=True)\n",
    "\n",
    "\n",
    "# remove the missing values\n",
    "df=df.dropna(subset=['Vehicle_driver_relation'])\n",
    "df.drop(df[df['Vehicle_driver_relation']=='Unknown'].index, inplace=True)\n",
    "# handle the vehicle driver relational missing values\n",
    "print(df['Vehicle_driver_relation'].unique())\n",
    "\n",
    "# validate the driving experiance column\n",
    "print(df['Driving_experience'].unique())\n",
    "# fill by Unknown \n",
    "df['Driving_experience'].fillna('Unknown', inplace=True)\n",
    "\n",
    "\n",
    "# handle the Type_of_vehicle missing values\n",
    "print(df['Type_of_vehicle'].unique())\n",
    "df['Type_of_vehicle']=df['Type_of_vehicle'].fillna('Other')\n",
    "\n",
    "\n",
    "#map to unique value for the column\n",
    "map_vehicle={\n",
    "    'Automobile':'Car',\n",
    "    'Public (> 45 seats)':'Bus',\n",
    "    'Lorry (41?100Q)':'Lorry',\n",
    "    'Public (13?45 seats)':'Bus',\n",
    "    'Lorry (11?40Q)':'Lorry',\n",
    "    'Long lorry':'Lorry',\n",
    "    'Public (12 seats)':'Lorry',\n",
    "    'Taxi':'Car',\n",
    "    'Pick up upto 10Q':'Lorry',\n",
    "    'Stationwagen':'Car',\n",
    "    'Ridden horse':'Other',\n",
    "    'Bajaj':'Three_wheeler',\n",
    "    'Turbo':'Three_wheeler',\n",
    "    'Motorcycle':'Mootorbike',\n",
    "    'Special vehicle':'Other',\n",
    "    'Bicycle':'Bicycle'\n",
    "}\n",
    "df['Type_of_vehicle']=df['Type_of_vehicle'].replace(map_vehicle)\n",
    "print(df['Type_of_vehicle'].unique())\n",
    "\n",
    "\n",
    "# area Accient occur \n",
    "print(df['Area_accident_occured'].unique())\n",
    "df.dropna(subset=['Area_accident_occured'], inplace=True)\n",
    "df['Area_accident_occured']=df['Area_accident_occured'].str.strip()\n",
    "df.drop(df[df['Area_accident_occured']=='Unknown'].index, inplace=True)\n",
    "\n",
    "\n",
    "# handle the Lanes_or_Medians\n",
    "print(df['Lanes_or_Medians'].unique())\n",
    "df['Lanes_or_Medians'].fillna('Unknown', inplace=True)\n",
    "\n",
    "\n",
    "# Handle the Types_of_Junction  missing values\n",
    "print(df['Types_of_Junction'].unique())\n",
    "df.dropna(subset=['Types_of_Junction'], inplace=True)\n",
    "df.drop(df[df['Types_of_Junction']=='Unknown'].index, inplace=True)\n",
    "\n",
    "\n",
    "# Handle the Road_surface_type missing values\n",
    "print(df['Road_surface_type'].unique())\n",
    "df.dropna(subset=['Road_surface_type'], inplace=True)\n",
    "\n",
    "\n",
    "print(df['Weather_conditions'].unique())\n",
    "df.drop(df[df['Weather_conditions']=='Unknown'].index, inplace=True)\n",
    "\n",
    "\n",
    "# handle the type of colision\n",
    "print(df['Type_of_collision'].unique())\n",
    "df.dropna(subset=['Type_of_collision'], inplace=True)\n",
    "df.drop(df[df['Type_of_collision']=='Unknown'].index, inplace=True)\n",
    "\n",
    "# Handle the Light_conditions \n",
    "print(df['Light_conditions'].unique())\n",
    "\n",
    "# handle the Vehicle_movement\n",
    "print(df['Vehicle_movement'].unique())\n",
    "df.dropna(subset=['Vehicle_movement'], inplace=True)\n",
    "df.drop(df[df['Vehicle_movement']=='Unknown'].index, inplace=True)\n",
    "\n",
    "\n",
    "# Handle the Pedestrian_movement  column\n",
    "print(df['Pedestrian_movement'].unique())\n",
    "print(df['Pedestrian_movement'].value_counts())\n",
    "\n",
    "# Handle the Cause_of_accident \n",
    "print(df['Cause_of_accident'].unique())"
   ]
  },
  {
   "cell_type": "markdown",
   "id": "3f4c2518",
   "metadata": {},
   "source": [
    "# Change to lowercase"
   ]
  },
  {
   "cell_type": "code",
   "execution_count": 7,
   "id": "1e13923a",
   "metadata": {},
   "outputs": [],
   "source": [
    "df.head()\n",
    "df['Age_band_of_driver']=df['Age_band_of_driver'].str.lower()\n",
    "df['Sex_of_driver']=df['Sex_of_driver'].str.lower()\n",
    "df['Educational_level']=df['Educational_level'].str.lower()\n",
    "df['Vehicle_driver_relation']=df['Vehicle_driver_relation'].str.lower()\n",
    "df['Driving_experience']=df['Driving_experience'].str.lower()\n",
    "df['Type_of_vehicle']=df['Type_of_vehicle'].str.lower()\n",
    "df['Area_accident_occured']=df['Area_accident_occured'].str.lower()\n",
    "df['Lanes_or_Medians']=df['Lanes_or_Medians'].str.lower()\n",
    "df['Types_of_Junction']=df['Types_of_Junction'].str.lower()\n",
    "df['Road_surface_type']=df['Road_surface_type'].str.lower()\n",
    "df['Light_conditions']=df['Light_conditions'].str.lower()\n",
    "df['Weather_conditions']=df['Weather_conditions'].str.lower()\n",
    "df['Type_of_collision']=df['Type_of_collision'].str.lower()\n",
    "df['Vehicle_movement']=df['Vehicle_movement'].str.lower()\n",
    "df['Pedestrian_movement']=df['Pedestrian_movement'].str.lower()\n",
    "df['Cause_of_accident']=df['Cause_of_accident'].str.lower()\n",
    "df['Number_of_vehicles_involved']=df['Number_of_vehicles_involved'].astype(int)"
   ]
  },
  {
   "cell_type": "markdown",
   "id": "e762958d",
   "metadata": {},
   "source": [
    "# Remove the duplicated raws"
   ]
  },
  {
   "cell_type": "code",
   "execution_count": 9,
   "id": "782831af",
   "metadata": {},
   "outputs": [
    {
     "name": "stdout",
     "output_type": "stream",
     "text": [
      "17\n"
     ]
    }
   ],
   "source": [
    "print(df.duplicated().sum())\n",
    "# drop the duplicates\n",
    "df.drop_duplicates(inplace=True)"
   ]
  },
  {
   "cell_type": "code",
   "execution_count": 10,
   "id": "4162cdab",
   "metadata": {},
   "outputs": [
    {
     "name": "stdout",
     "output_type": "stream",
     "text": [
      "  Age_band_of_driver Sex_of_driver   Educational_level  \\\n",
      "0              18-30          male   above high school   \n",
      "1              31-50          male  junior high school   \n",
      "2              18-30          male  junior high school   \n",
      "3              18-30          male  junior high school   \n",
      "4              18-30          male  junior high school   \n",
      "\n",
      "  Vehicle_driver_relation Driving_experience Type_of_vehicle  \\\n",
      "0                employee              1-2yr             car   \n",
      "1                employee         above 10yr             bus   \n",
      "2                employee              1-2yr           lorry   \n",
      "3                employee             5-10yr             bus   \n",
      "4                employee              2-5yr           other   \n",
      "\n",
      "  Area_accident_occured   Lanes_or_Medians Types_of_Junction  \\\n",
      "0     residential areas            unknown       no junction   \n",
      "1          office areas  undivided two way       no junction   \n",
      "2    recreational areas              other       no junction   \n",
      "3          office areas              other           y shape   \n",
      "4      industrial areas              other           y shape   \n",
      "\n",
      "  Road_surface_type       Light_conditions Weather_conditions  \\\n",
      "0     asphalt roads               daylight             normal   \n",
      "1     asphalt roads               daylight             normal   \n",
      "2     asphalt roads               daylight             normal   \n",
      "3       earth roads  darkness - lights lit             normal   \n",
      "4     asphalt roads  darkness - lights lit             normal   \n",
      "\n",
      "                         Type_of_collision  Number_of_vehicles_involved  \\\n",
      "0  collision with roadside-parked vehicles                            2   \n",
      "1           vehicle with vehicle collision                            2   \n",
      "2          collision with roadside objects                            2   \n",
      "3           vehicle with vehicle collision                            2   \n",
      "4           vehicle with vehicle collision                            2   \n",
      "\n",
      "  Vehicle_movement Pedestrian_movement           Cause_of_accident  \\\n",
      "0   going straight    not a pedestrian             moving backward   \n",
      "1   going straight    not a pedestrian                  overtaking   \n",
      "2   going straight    not a pedestrian   changing lane to the left   \n",
      "3   going straight    not a pedestrian  changing lane to the right   \n",
      "4   going straight    not a pedestrian                  overtaking   \n",
      "\n",
      "  Accident_severity  \n",
      "0     Slight Injury  \n",
      "1     Slight Injury  \n",
      "2    Serious Injury  \n",
      "3     Slight Injury  \n",
      "4     Slight Injury  \n"
     ]
    }
   ],
   "source": [
    "print(df.head())\n"
   ]
  },
  {
   "cell_type": "code",
   "execution_count": 10,
   "id": "982f4f2e",
   "metadata": {},
   "outputs": [],
   "source": [
    "# Store the data set\n",
    "df.to_csv(\"RTA_preprocessed.csv\", index=False)"
   ]
  },
  {
   "cell_type": "markdown",
   "id": "368d03a5",
   "metadata": {},
   "source": [
    "# Transformation"
   ]
  },
  {
   "cell_type": "code",
   "execution_count": 12,
   "id": "0d84683b",
   "metadata": {},
   "outputs": [
    {
     "name": "stdout",
     "output_type": "stream",
     "text": [
      "[2 1 0]\n",
      "(8385, 110)\n"
     ]
    }
   ],
   "source": [
    "\n",
    "#label encode for the target variable\n",
    "le=LabelEncoder()\n",
    "df['Accident_severity']=le.fit_transform(df['Accident_severity'])\n",
    "print(df['Accident_severity'].unique())\n",
    "\n",
    "# One hot encoding for the categorical variables\n",
    "categorical_cols=['Age_band_of_driver','Sex_of_driver','Educational_level',\n",
    "                  'Vehicle_driver_relation','Driving_experience','Type_of_vehicle',\n",
    "                  'Area_accident_occured','Lanes_or_Medians','Types_of_Junction','Road_surface_type',\n",
    "                  'Light_conditions','Weather_conditions','Type_of_collision','Vehicle_movement',\n",
    "                  'Pedestrian_movement','Cause_of_accident']\n",
    "\n",
    "df_encoded = pd.get_dummies(df, columns=categorical_cols, drop_first=True)\n",
    "\n",
    "\n",
    "#for numeric column\n",
    "scaler = StandardScaler()\n",
    "\n",
    "df_encoded['Number_of_vehicles_involved'] = scaler.fit_transform(df_encoded[['Number_of_vehicles_involved']])\n",
    "\n",
    "df_encoded.head()\n",
    "print(df_encoded.shape)\n",
    " "
   ]
  },
  {
   "cell_type": "code",
   "execution_count": null,
   "id": "e617bfb6",
   "metadata": {},
   "outputs": [
    {
     "ename": "",
     "evalue": "",
     "output_type": "error",
     "traceback": [
      "\u001b[1;31mThe Kernel crashed while executing code in the current cell or a previous cell. \n",
      "\u001b[1;31mPlease review the code in the cell(s) to identify a possible cause of the failure. \n",
      "\u001b[1;31mClick <a href='https://aka.ms/vscodeJupyterKernelCrash'>here</a> for more info. \n",
      "\u001b[1;31mView Jupyter <a href='command:jupyter.viewOutput'>log</a> for further details."
     ]
    }
   ],
   "source": [
    "df_encoded.to_csv(\"RTA_preprocessed_encoded.csv\", index=False)\n"
   ]
  },
  {
   "cell_type": "code",
   "execution_count": null,
   "id": "ba3f7823",
   "metadata": {},
   "outputs": [],
   "source": []
  }
 ],
 "metadata": {
  "kernelspec": {
   "display_name": "base",
   "language": "python",
   "name": "python3"
  },
  "language_info": {
   "codemirror_mode": {
    "name": "ipython",
    "version": 3
   },
   "file_extension": ".py",
   "mimetype": "text/x-python",
   "name": "python",
   "nbconvert_exporter": "python",
   "pygments_lexer": "ipython3",
   "version": "3.12.3"
  }
 },
 "nbformat": 4,
 "nbformat_minor": 5
}
