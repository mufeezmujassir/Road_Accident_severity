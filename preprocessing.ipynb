{
 "cells": [
  {
   "cell_type": "markdown",
   "id": "82d48ee8",
   "metadata": {},
   "source": [
    "# Import the libraries\n"
   ]
  },
  {
   "cell_type": "code",
   "execution_count": null,
   "id": "0128c198",
   "metadata": {},
   "outputs": [],
   "source": [
    "import pandas as pd\n",
    "import numpy as np\n",
    "from sklearn.preprocessing import LabelEncoder\n",
    "\n"
   ]
  },
  {
   "cell_type": "code",
   "execution_count": null,
   "id": "1c50dbb3",
   "metadata": {},
   "outputs": [],
   "source": [
    "df=pd.read_csv(\"RTA Dataset.csv\")\n"
   ]
  },
  {
   "cell_type": "code",
   "execution_count": null,
   "id": "f6f1fff0",
   "metadata": {},
   "outputs": [],
   "source": [
    "## print the header\n",
    "print(df.columns)\n",
    "print(len(df.columns))"
   ]
  },
  {
   "cell_type": "markdown",
   "id": "75850d54",
   "metadata": {},
   "source": [
    "# Remove the unrelated features\n",
    "- removing columns\n",
    "    - Number_of_casualties :- This is only known after the accident.\n",
    "    - Duplicate of target variable Accident_severity.\n",
    "    - Fitness_of_casuality :- Measured after the accident (whether casualty was fit/unfit at hospital).\n",
    "    - Work_of_casuality :- Doesn’t logically affect accident severity → weak correlation.\n",
    "    - Sex_of_casualty :- Gender of the injured person doesn’t influence accident severity as strongly as environmental or driver-related factors.\n",
    "    - Owner_of_vehicle :- Already captured indirectly by Vehicle_driver_relation (e.g., owner vs hired driver)."
   ]
  },
  {
   "cell_type": "code",
   "execution_count": null,
   "id": "d5bd9107",
   "metadata": {},
   "outputs": [],
   "source": [
    "# preprocessing steps \n",
    "# 1. Handle missing values\n",
    "# 2. Remove the unrelated features\n",
    "# 2. Encode categorical variables\n",
    "# 3. Normalize/Standardize numerical features\n",
    "# 4. Feature engineering (if necessary)\n",
    "# 5. Split the data into training and testing sets\n",
    "\n",
    "\n",
    "df.drop(columns=['Time','Day_of_week','Owner_of_vehicle','Service_year_of_vehicle',\n",
    "                 'Road_allignment','Road_surface_conditions','Number_of_casualties',\n",
    "                 'Casualty_class','Sex_of_casualty','Age_band_of_casualty','Casualty_severity',\n",
    "                 'Work_of_casuality','Fitness_of_casuality','Defect_of_vehicle'], inplace=True)"
   ]
  },
  {
   "cell_type": "code",
   "execution_count": null,
   "id": "f59f7482",
   "metadata": {},
   "outputs": [],
   "source": [
    "print(df.isnull().sum())\n",
    "print(df.shape)"
   ]
  },
  {
   "cell_type": "code",
   "execution_count": null,
   "id": "0880f673",
   "metadata": {},
   "outputs": [],
   "source": [
    "#handle the Age band od driver missing values\n",
    "print(df['Age_band_of_driver'].unique())\n",
    "df.drop(df[df['Age_band_of_driver']=='Unknown'].index, inplace=True)\n",
    "\n",
    "# handle the education level missing values by replacing with age group\n",
    "print(df['Educational_level'].unique())\n",
    "df['Educational_level'].fillna('Unknown', inplace=True)\n",
    "\n",
    "\n",
    "# remove the missing values\n",
    "df=df.dropna(subset=['Vehicle_driver_relation'])\n",
    "df.drop(df[df['Vehicle_driver_relation']=='Unknown'].index, inplace=True)\n",
    "# handle the vehicle driver relational missing values\n",
    "print(df['Vehicle_driver_relation'].unique())\n",
    "\n",
    "# validate the driving experiance column\n",
    "print(df['Driving_experience'].unique())\n",
    "# fill by Unknown \n",
    "df['Driving_experience'].fillna('Unknown', inplace=True)\n",
    "\n",
    "\n",
    "# handle the Type_of_vehicle missing values\n",
    "print(df['Type_of_vehicle'].unique())\n",
    "df['Type_of_vehicle']=df['Type_of_vehicle'].fillna('Other')\n",
    "\n",
    "\n",
    "#map to unique value for the column\n",
    "map_vehicle={\n",
    "    'Automobile':'Car',\n",
    "    'Public (> 45 seats)':'Bus',\n",
    "    'Lorry (41?100Q)':'Lorry',\n",
    "    'Public (13?45 seats)':'Bus',\n",
    "    'Lorry (11?40Q)':'Lorry',\n",
    "    'Long lorry':'Lorry',\n",
    "    'Public (12 seats)':'Lorry',\n",
    "    'Taxi':'Car',\n",
    "    'Pick up upto 10Q':'Lorry',\n",
    "    'Stationwagen':'Car',\n",
    "    'Ridden horse':'Other',\n",
    "    'Bajaj':'Three_wheeler',\n",
    "    'Turbo':'Three_wheeler',\n",
    "    'Motorcycle':'Mootorbike',\n",
    "    'Special vehicle':'Other',\n",
    "    'Bicycle':'Bicycle'\n",
    "}\n",
    "df['Type_of_vehicle']=df['Type_of_vehicle'].replace(map_vehicle)\n",
    "print(df['Type_of_vehicle'].unique())\n",
    "\n",
    "\n",
    "# area Accient occur \n",
    "print(df['Area_accident_occured'].unique())\n",
    "df.dropna(subset=['Area_accident_occured'], inplace=True)\n",
    "df['Area_accident_occured']=df['Area_accident_occured'].str.strip()\n",
    "df.drop(df[df['Area_accident_occured']=='Unknown'].index, inplace=True)\n",
    "\n",
    "\n",
    "# handle the Lanes_or_Medians\n",
    "print(df['Lanes_or_Medians'].unique())\n",
    "df['Lanes_or_Medians'].fillna('Unknown', inplace=True)\n",
    "\n",
    "\n",
    "# Handle the Types_of_Junction  missing values\n",
    "print(df['Types_of_Junction'].unique())\n",
    "df.dropna(subset=['Types_of_Junction'], inplace=True)\n",
    "df.drop(df[df['Types_of_Junction']=='Unknown'].index, inplace=True)\n",
    "\n",
    "\n",
    "# Handle the Road_surface_type missing values\n",
    "print(df['Road_surface_type'].unique())\n",
    "df.dropna(subset=['Road_surface_type'], inplace=True)\n",
    "\n",
    "\n",
    "print(df['Weather_conditions'].unique())\n",
    "df.drop(df[df['Weather_conditions']=='Unknown'].index, inplace=True)\n",
    "\n",
    "\n",
    "# handle the type of colision\n",
    "print(df['Type_of_collision'].unique())\n",
    "df.dropna(subset=['Type_of_collision'], inplace=True)\n",
    "df.drop(df[df['Type_of_collision']=='Unknown'].index, inplace=True)\n",
    "\n",
    "# Handle the Light_conditions \n",
    "print(df['Light_conditions'].unique())\n",
    "\n",
    "# handle the Vehicle_movement\n",
    "print(df['Vehicle_movement'].unique())\n",
    "df.dropna(subset=['Vehicle_movement'], inplace=True)\n",
    "df.drop(df[df['Vehicle_movement']=='Unknown'].index, inplace=True)\n",
    "\n",
    "\n",
    "# Handle the Pedestrian_movement  column\n",
    "print(df['Pedestrian_movement'].unique())\n",
    "print(df['Pedestrian_movement'].value_counts())\n",
    "\n",
    "# Handle the Cause_of_accident \n",
    "print(df['Cause_of_accident'].unique())"
   ]
  },
  {
   "cell_type": "markdown",
   "id": "3f4c2518",
   "metadata": {},
   "source": [
    "# Change to lowercase"
   ]
  },
  {
   "cell_type": "code",
   "execution_count": null,
   "id": "1e13923a",
   "metadata": {},
   "outputs": [],
   "source": [
    "df.head()\n",
    "df['Age_band_of_driver']=df['Age_band_of_driver'].str.lower()\n",
    "df['Sex_of_driver']=df['Sex_of_driver'].str.lower()\n",
    "df['Educational_level']=df['Educational_level'].str.lower()\n",
    "df['Vehicle_driver_relation']=df['Vehicle_driver_relation'].str.lower()\n",
    "df['Driving_experience']=df['Driving_experience'].str.lower()\n",
    "df['Type_of_vehicle']=df['Type_of_vehicle'].str.lower()\n",
    "df['Area_accident_occured']=df['Area_accident_occured'].str.lower()\n",
    "df['Lanes_or_Medians']=df['Lanes_or_Medians'].str.lower()\n",
    "df['Types_of_Junction']=df['Types_of_Junction'].str.lower()\n",
    "df['Road_surface_type']=df['Road_surface_type'].str.lower()\n",
    "df['Light_conditions']=df['Light_conditions'].str.lower()\n",
    "df['Weather_conditions']=df['Weather_conditions'].str.lower()\n",
    "df['Type_of_collision']=df['Type_of_collision'].str.lower()\n",
    "df['Vehicle_movement']=df['Vehicle_movement'].str.lower()\n",
    "df['Pedestrian_movement']=df['Pedestrian_movement'].str.lower()\n",
    "df['Cause_of_accident']=df['Cause_of_accident'].str.lower()\n",
    "df['Number_of_vehicles_involved']=df['Number_of_vehicles_involved'].astype(int)"
   ]
  },
  {
   "cell_type": "markdown",
   "id": "e762958d",
   "metadata": {},
   "source": [
    "# Remove the duplicated raws"
   ]
  },
  {
   "cell_type": "code",
   "execution_count": null,
   "id": "782831af",
   "metadata": {},
   "outputs": [],
   "source": [
    "print(df.duplicated().sum())\n",
    "# drop the duplicates\n",
    "df.drop_duplicates(inplace=True)"
   ]
  },
  {
   "cell_type": "code",
   "execution_count": null,
   "id": "4162cdab",
   "metadata": {},
   "outputs": [],
   "source": [
    "print(df.head())\n"
   ]
  },
  {
   "cell_type": "code",
   "execution_count": null,
   "id": "982f4f2e",
   "metadata": {},
   "outputs": [],
   "source": [
    "# Store the data set\n",
    "df.to_csv(\"RTA_preprocessed.csv\", index=False)"
   ]
  },
  {
   "cell_type": "markdown",
   "id": "368d03a5",
   "metadata": {},
   "source": [
    "# Transformation"
   ]
  },
  {
   "cell_type": "code",
   "execution_count": null,
   "id": "0d84683b",
   "metadata": {},
   "outputs": [],
   "source": [
    "\n",
    "#label encode for the target variable\n",
    "le=LabelEncoder()\n",
    "categorical_cols=['Age_band_of_driver','Sex_of_driver','Educational_level',\n",
    "                  'Vehicle_driver_relation','Driving_experience','Type_of_vehicle',\n",
    "                  'Area_accident_occured','Lanes_or_Medians','Types_of_Junction','Road_surface_type',\n",
    "                  'Light_conditions','Weather_conditions','Type_of_collision','Vehicle_movement',\n",
    "                  'Pedestrian_movement','Cause_of_accident','Accident_severity']\n",
    "\n",
    "for category in categorical_cols:\n",
    "    df[category]=le.fit_transform(df[category])\n",
    "\n",
    "\n",
    "df.head()\n",
    "print(df.shape)\n",
    " "
   ]
  },
  {
   "cell_type": "code",
   "execution_count": null,
   "id": "e617bfb6",
   "metadata": {},
   "outputs": [],
   "source": [
    "df.to_csv(\"RTA_preprocessed_encoded.csv\", index=False)\n"
   ]
  }
 ],
 "metadata": {
  "kernelspec": {
   "display_name": "Python 3",
   "language": "python",
   "name": "python3"
  },
  "language_info": {
   "codemirror_mode": {
    "name": "ipython",
    "version": 3
   },
   "file_extension": ".py",
   "mimetype": "text/x-python",
   "name": "python",
   "nbconvert_exporter": "python",
   "pygments_lexer": "ipython3",
   "version": "3.10.1"
  }
 },
 "nbformat": 4,
 "nbformat_minor": 5
}
